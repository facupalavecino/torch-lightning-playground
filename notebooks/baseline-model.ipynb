{
 "cells": [
  {
   "cell_type": "markdown",
   "metadata": {},
   "source": [
    "# Baseline Model"
   ]
  },
  {
   "cell_type": "code",
   "execution_count": 1,
   "metadata": {},
   "outputs": [],
   "source": [
    "from recognizer.utils. constants import DATA_DIR\n",
    "\n",
    "IMAGES_DIR = DATA_DIR / \"preprocessed-10p\" / \"images\"\n",
    "MASKS_DIR = DATA_DIR / \"preprocessed-10p\" / \"masks\""
   ]
  },
  {
   "cell_type": "code",
   "execution_count": 2,
   "metadata": {},
   "outputs": [],
   "source": [
    "import os\n",
    "\n",
    "image_to_mask_map = dict()\n",
    "\n",
    "for img_file in os.listdir(IMAGES_DIR):\n",
    "    image_to_mask_map[img_file] = img_file.replace(\"image\", \"mask\")\n"
   ]
  },
  {
   "cell_type": "code",
   "execution_count": 3,
   "metadata": {},
   "outputs": [],
   "source": [
    "image_filenames = list(image_to_mask_map.keys())\n",
    "mask_filenames = [image_to_mask_map[image] for image in image_filenames]"
   ]
  },
  {
   "cell_type": "code",
   "execution_count": 4,
   "metadata": {},
   "outputs": [],
   "source": [
    "from sklearn.model_selection import train_test_split\n",
    "\n",
    "images_train, images_test, masks_train, masks_test = train_test_split(image_filenames, mask_filenames, test_size=0.1, random_state=180)\n",
    "images_train, images_val, masks_train, masks_val = train_test_split(images_train, masks_train, test_size=0.1127, random_state=180) # 0.1 * 0.9 = 0.1127"
   ]
  },
  {
   "cell_type": "code",
   "execution_count": 5,
   "metadata": {},
   "outputs": [
    {
     "data": {
      "text/plain": [
       "(408, 52, 52)"
      ]
     },
     "execution_count": 5,
     "metadata": {},
     "output_type": "execute_result"
    }
   ],
   "source": [
    "len(images_train), len(images_val), len(images_test)"
   ]
  },
  {
   "cell_type": "code",
   "execution_count": 6,
   "metadata": {},
   "outputs": [
    {
     "name": "stderr",
     "output_type": "stream",
     "text": [
      "/Users/facundopalavecino/Library/Caches/pypoetry/virtualenvs/football-players-recognizer-8BLejKao-py3.9/lib/python3.9/site-packages/torchvision/transforms/v2/_deprecated.py:41: UserWarning: The transform `ToTensor()` is deprecated and will be removed in a future release. Instead, please use `v2.Compose([v2.ToImage(), v2.ToDtype(torch.float32, scale=True)])`.\n",
      "  warnings.warn(\n"
     ]
    }
   ],
   "source": [
    "import torch\n",
    "\n",
    "from torchvision.transforms import v2\n",
    "\n",
    "image_transform = v2.Compose([\n",
    "    v2.ToTensor()\n",
    "    # v2.ToImage(),\n",
    "    # v2.ToDtype(torch.float32, scale=True),\n",
    "])\n",
    "\n",
    "mask_transform = v2.Compose([\n",
    "    v2.ToTensor(),\n",
    "    v2.ToDtype(torch.float32)\n",
    "    # v2.ToImage(),\n",
    "    # v2.ToDtype(torch.float32, scale=True),\n",
    "])"
   ]
  },
  {
   "cell_type": "code",
   "execution_count": 7,
   "metadata": {},
   "outputs": [],
   "source": [
    "from recognizer.datasets import SegmentationDataset\n",
    "\n",
    "train_dataset = SegmentationDataset(\n",
    "    images_dir=str(IMAGES_DIR),\n",
    "    masks_dir=str(MASKS_DIR),\n",
    "    image_files=images_train,\n",
    "    mask_files=masks_train,\n",
    "    transform=image_transform,\n",
    "    target_transform=mask_transform\n",
    ")\n",
    "\n",
    "val_dataset = SegmentationDataset(\n",
    "    images_dir=str(IMAGES_DIR),\n",
    "    masks_dir=str(MASKS_DIR),\n",
    "    image_files=images_val,\n",
    "    mask_files=masks_val,\n",
    "    transform=image_transform,\n",
    "    target_transform=mask_transform\n",
    ")\n",
    "\n",
    "test_dataset = SegmentationDataset(\n",
    "    images_dir=str(IMAGES_DIR),\n",
    "    masks_dir=str(MASKS_DIR),\n",
    "    image_files=images_test,\n",
    "    mask_files=masks_test,\n",
    "    transform=image_transform,\n",
    "    target_transform=mask_transform\n",
    ")"
   ]
  },
  {
   "cell_type": "code",
   "execution_count": 8,
   "metadata": {},
   "outputs": [],
   "source": [
    "from torch.utils.data import DataLoader\n",
    "\n",
    "BATCH_SIZE = 8\n",
    "\n",
    "train_loader = DataLoader(train_dataset, batch_size=BATCH_SIZE, shuffle=True, drop_last=False, num_workers=4, pin_memory=True)\n",
    "val_loader = DataLoader(val_dataset, batch_size=BATCH_SIZE, shuffle=False, drop_last=False, num_workers=4, pin_memory=True)\n",
    "test_loader = DataLoader(test_dataset, batch_size=BATCH_SIZE, shuffle=False, drop_last=False, num_workers=4, pin_memory=True)"
   ]
  },
  {
   "cell_type": "code",
   "execution_count": 22,
   "metadata": {},
   "outputs": [],
   "source": [
    "from recognizer.models.unet import UNet\n",
    "\n",
    "unet_model = UNet(n_channels=3, n_classes=1)"
   ]
  },
  {
   "cell_type": "code",
   "execution_count": 15,
   "metadata": {},
   "outputs": [],
   "source": [
    "def dice_coefficient(pred: torch.Tensor, target: torch.Tensor) -> float:\n",
    "    \"\"\"\n",
    "    Compute the Dice coefficient.\n",
    "    \n",
    "    Parameters:\n",
    "    pred (torch.Tensor): Predicted mask, a tensor of shape (N, 1, H, W)\n",
    "    target (torch.Tensor): Ground truth mask, a tensor of shape (N, 1, H, W)\n",
    "\n",
    "    Returns:\n",
    "    float: Dice coefficient\n",
    "    \"\"\"\n",
    "    pred = pred.contiguous()\n",
    "    target = target.contiguous()\n",
    "\n",
    "    intersection = (pred * target).sum(dim=2).sum(dim=2)\n",
    "    pred_sum = pred.sum(dim=2).sum(dim=2)\n",
    "    target_sum = target.sum(dim=2).sum(dim=2)\n",
    "\n",
    "    dice = (2. * intersection + 1e-7) / (pred_sum + target_sum + 1e-7)\n",
    "    \n",
    "    return dice.mean().item()\n",
    "\n",
    "\n",
    "def iou(pred: torch.Tensor, target: torch.Tensor) -> float:\n",
    "    \"\"\"\n",
    "    Compute the Intersection over Union (IoU).\n",
    "    \n",
    "    Parameters:\n",
    "    pred (torch.Tensor): Predicted mask, a tensor of shape (N, 1, H, W)\n",
    "    target (torch.Tensor): Ground truth mask, a tensor of shape (N, 1, H, W)\n",
    "    smooth (float): A smoothing constant to avoid division by zero\n",
    "\n",
    "    Returns:\n",
    "    float: Intersection over Union (IoU)\n",
    "    \"\"\"\n",
    "    pred = pred.contiguous()\n",
    "    target = target.contiguous()\n",
    "    \n",
    "    intersection = (pred * target).sum(dim=2).sum(dim=2)\n",
    "    union = pred.sum(dim=2).sum(dim=2) + target.sum(dim=2).sum(dim=2) - intersection\n",
    "    \n",
    "    iou = (intersection + 1e-7) / (union + 1e-7)\n",
    "    \n",
    "    return iou.mean().item()"
   ]
  },
  {
   "cell_type": "code",
   "execution_count": 23,
   "metadata": {},
   "outputs": [],
   "source": [
    "import lightning as L\n",
    "from torch import nn\n",
    "\n",
    "example_input_array = torch.Tensor(512, 3, 216, 384)\n",
    "\n",
    "\n",
    "class LitSegmenter(L.LightningModule):\n",
    "    def __init__(self, model):\n",
    "        super().__init__()\n",
    "        self.model = model\n",
    "        self.loss_fn = nn.BCEWithLogitsLoss()\n",
    "\n",
    "    def training_step(self, batch, batch_idx):\n",
    "        # training_step defines the train loop.\n",
    "        # it is independent of forward\n",
    "        images, masks = batch\n",
    "        \n",
    "        outputs = self.model(images)\n",
    "\n",
    "        loss = self.loss_fn(outputs, masks)\n",
    "        return loss\n",
    "\n",
    "    def validation_step(self, batch, batch_idx):\n",
    "        # training_step defines the train loop.\n",
    "        # it is independent of forward\n",
    "        images, masks = batch\n",
    "\n",
    "        outputs = self.model(images)\n",
    "\n",
    "        loss = self.loss_fn(outputs, masks)\n",
    "\n",
    "        self.log(\"val_loss\", loss)\n",
    "\n",
    "    def test_step(self, batch, batch_idx):\n",
    "        images, masks = batch\n",
    "\n",
    "        outputs = self.model(images)\n",
    "\n",
    "        loss = self.loss_fn(outputs, masks)\n",
    "        dice = dice_coefficient(outputs, masks)\n",
    "        iou_val = iou(outputs, masks)\n",
    "        self.log_dict({\"test_loss\": loss, \"dice\": dice, \"iou\": iou_val}, prog_bar=True)\n",
    "\n",
    "    def configure_optimizers(self):\n",
    "        optimizer = torch.optim.Adam(self.parameters(), lr=1e-4)\n",
    "        return optimizer\n",
    "\n",
    "\n",
    "segmenter = LitSegmenter(model=unet_model)"
   ]
  },
  {
   "cell_type": "code",
   "execution_count": 24,
   "metadata": {},
   "outputs": [
    {
     "name": "stderr",
     "output_type": "stream",
     "text": [
      "GPU available: False, used: False\n",
      "TPU available: False, using: 0 TPU cores\n",
      "IPU available: False, using: 0 IPUs\n",
      "HPU available: False, using: 0 HPUs\n"
     ]
    }
   ],
   "source": [
    "trainer = L.Trainer(max_epochs=10, check_val_every_n_epoch=2)"
   ]
  },
  {
   "cell_type": "code",
   "execution_count": 25,
   "metadata": {},
   "outputs": [
    {
     "name": "stderr",
     "output_type": "stream",
     "text": [
      "\n",
      "  | Name    | Type              | Params\n",
      "----------------------------------------------\n",
      "0 | model   | UNet              | 17.3 M\n",
      "1 | loss_fn | BCEWithLogitsLoss | 0     \n",
      "----------------------------------------------\n",
      "17.3 M    Trainable params\n",
      "0         Non-trainable params\n",
      "17.3 M    Total params\n",
      "69.070    Total estimated model params size (MB)\n"
     ]
    },
    {
     "data": {
      "application/vnd.jupyter.widget-view+json": {
       "model_id": "6eaf96381c0f47f6bf86c4589384bf16",
       "version_major": 2,
       "version_minor": 0
      },
      "text/plain": [
       "Sanity Checking: |          | 0/? [00:00<?, ?it/s]"
      ]
     },
     "metadata": {},
     "output_type": "display_data"
    },
    {
     "name": "stderr",
     "output_type": "stream",
     "text": [
      "/Users/facundopalavecino/Library/Caches/pypoetry/virtualenvs/football-players-recognizer-8BLejKao-py3.9/lib/python3.9/site-packages/lightning/pytorch/trainer/connectors/data_connector.py:436: Consider setting `persistent_workers=True` in 'val_dataloader' to speed up the dataloader worker initialization.\n",
      "/Users/facundopalavecino/Library/Caches/pypoetry/virtualenvs/football-players-recognizer-8BLejKao-py3.9/lib/python3.9/site-packages/lightning/pytorch/trainer/connectors/data_connector.py:436: Consider setting `persistent_workers=True` in 'train_dataloader' to speed up the dataloader worker initialization.\n"
     ]
    },
    {
     "data": {
      "application/vnd.jupyter.widget-view+json": {
       "model_id": "732b830cdc8c426d9b291b727ae2c4ce",
       "version_major": 2,
       "version_minor": 0
      },
      "text/plain": [
       "Training: |          | 0/? [00:00<?, ?it/s]"
      ]
     },
     "metadata": {},
     "output_type": "display_data"
    },
    {
     "data": {
      "application/vnd.jupyter.widget-view+json": {
       "model_id": "7b51431f0ccc4e95992005b5580dd95e",
       "version_major": 2,
       "version_minor": 0
      },
      "text/plain": [
       "Validation: |          | 0/? [00:00<?, ?it/s]"
      ]
     },
     "metadata": {},
     "output_type": "display_data"
    },
    {
     "data": {
      "application/vnd.jupyter.widget-view+json": {
       "model_id": "4b5c356d9bbc476e85b4970113df3d78",
       "version_major": 2,
       "version_minor": 0
      },
      "text/plain": [
       "Validation: |          | 0/? [00:00<?, ?it/s]"
      ]
     },
     "metadata": {},
     "output_type": "display_data"
    },
    {
     "data": {
      "application/vnd.jupyter.widget-view+json": {
       "model_id": "9d9715c38a854e6cad4e6b8988e38071",
       "version_major": 2,
       "version_minor": 0
      },
      "text/plain": [
       "Validation: |          | 0/? [00:00<?, ?it/s]"
      ]
     },
     "metadata": {},
     "output_type": "display_data"
    },
    {
     "data": {
      "application/vnd.jupyter.widget-view+json": {
       "model_id": "e28daa29a00c432691b58b9b7bf4d9af",
       "version_major": 2,
       "version_minor": 0
      },
      "text/plain": [
       "Validation: |          | 0/? [00:00<?, ?it/s]"
      ]
     },
     "metadata": {},
     "output_type": "display_data"
    },
    {
     "data": {
      "application/vnd.jupyter.widget-view+json": {
       "model_id": "8485dc981b594a65b7a966e7342665d6",
       "version_major": 2,
       "version_minor": 0
      },
      "text/plain": [
       "Validation: |          | 0/? [00:00<?, ?it/s]"
      ]
     },
     "metadata": {},
     "output_type": "display_data"
    },
    {
     "name": "stderr",
     "output_type": "stream",
     "text": [
      "`Trainer.fit` stopped: `max_epochs=10` reached.\n"
     ]
    }
   ],
   "source": [
    "trainer.fit(model=segmenter, train_dataloaders=train_loader, val_dataloaders=val_loader)"
   ]
  },
  {
   "cell_type": "code",
   "execution_count": 26,
   "metadata": {},
   "outputs": [
    {
     "name": "stderr",
     "output_type": "stream",
     "text": [
      "/Users/facundopalavecino/Library/Caches/pypoetry/virtualenvs/football-players-recognizer-8BLejKao-py3.9/lib/python3.9/site-packages/lightning/pytorch/trainer/connectors/data_connector.py:436: Consider setting `persistent_workers=True` in 'test_dataloader' to speed up the dataloader worker initialization.\n"
     ]
    },
    {
     "data": {
      "application/vnd.jupyter.widget-view+json": {
       "model_id": "915fd47d610e4f9abe1f8afd9aa80545",
       "version_major": 2,
       "version_minor": 0
      },
      "text/plain": [
       "Testing: |          | 0/? [00:00<?, ?it/s]"
      ]
     },
     "metadata": {},
     "output_type": "display_data"
    },
    {
     "name": "stdout",
     "output_type": "stream",
     "text": [
      "────────────────────────────────────────────────────────────────────────────────────────────────────────────────────────\n",
      "       Test metric             DataLoader 0\n",
      "────────────────────────────────────────────────────────────────────────────────────────────────────────────────────────\n",
      "          dice             -0.03506287559866905\n",
      "           iou             -0.017193950712680817\n",
      "        test_loss           0.11957840621471405\n",
      "────────────────────────────────────────────────────────────────────────────────────────────────────────────────────────\n"
     ]
    },
    {
     "data": {
      "text/plain": [
       "[{'test_loss': 0.11957840621471405,\n",
       "  'dice': -0.03506287559866905,\n",
       "  'iou': -0.017193950712680817}]"
      ]
     },
     "execution_count": 26,
     "metadata": {},
     "output_type": "execute_result"
    }
   ],
   "source": [
    "trainer.test(model=segmenter, dataloaders=test_loader)"
   ]
  }
 ],
 "metadata": {
  "kernelspec": {
   "display_name": "football-players-recognizer-8BLejKao-py3.9",
   "language": "python",
   "name": "python3"
  },
  "language_info": {
   "codemirror_mode": {
    "name": "ipython",
    "version": 3
   },
   "file_extension": ".py",
   "mimetype": "text/x-python",
   "name": "python",
   "nbconvert_exporter": "python",
   "pygments_lexer": "ipython3",
   "version": "3.9.15"
  }
 },
 "nbformat": 4,
 "nbformat_minor": 2
}
